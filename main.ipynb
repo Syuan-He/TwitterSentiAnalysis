{
 "cells": [
  {
   "cell_type": "code",
   "execution_count": 1,
   "metadata": {},
   "outputs": [
    {
     "name": "stdout",
     "output_type": "stream",
     "text": [
      "DevConf(device='cuda', dtype=torch.float32)\n"
     ]
    }
   ],
   "source": [
    "import torch\n",
    "from utils.DevConf import DevConf\n",
    "devConf = DevConf('cuda' if torch.cuda.is_available() else 'cpu')\n",
    "print(devConf)"
   ]
  },
  {
   "cell_type": "markdown",
   "metadata": {},
   "source": [
    "# Load Data"
   ]
  },
  {
   "cell_type": "code",
   "execution_count": 2,
   "metadata": {},
   "outputs": [
    {
     "name": "stderr",
     "output_type": "stream",
     "text": [
      "/mnt/d/code/python/nlp-wsl/twiterSenti/.venv/lib/python3.10/site-packages/tqdm/auto.py:21: TqdmWarning: IProgress not found. Please update jupyter and ipywidgets. See https://ipywidgets.readthedocs.io/en/stable/user_install.html\n",
      "  from .autonotebook import tqdm as notebook_tqdm\n"
     ]
    }
   ],
   "source": [
    "from datasets import load_dataset"
   ]
  },
  {
   "cell_type": "code",
   "execution_count": 3,
   "metadata": {},
   "outputs": [
    {
     "name": "stderr",
     "output_type": "stream",
     "text": [
      "Downloading data: 11.7MB [00:00, 14.3MB/s]                            \n",
      "Downloading data: 4.84MB [00:01, 3.52MB/s]                           \n",
      "Generating train split: 149985 examples [00:01, 89356.84 examples/s]\n",
      "Generating test split: 61998 examples [00:00, 1810512.36 examples/s]\n",
      "Map: 100%|██████████| 149985/149985 [00:04<00:00, 37033.68 examples/s]\n",
      "Map: 100%|██████████| 61998/61998 [00:01<00:00, 38495.88 examples/s]\n",
      "Creating json from Arrow format: 100%|██████████| 120/120 [00:00<00:00, 143.74ba/s]\n",
      "Creating json from Arrow format: 100%|██████████| 30/30 [00:00<00:00, 185.42ba/s]\n",
      "Creating json from Arrow format: 100%|██████████| 62/62 [00:00<00:00, 508.92ba/s]\n",
      "Generating train split: 100%|██████████| 119988/119988 [00:03<00:00, 38555.67 examples/s]\n",
      "Generating validation split: 100%|██████████| 29997/29997 [00:00<00:00, 48038.14 examples/s]\n",
      "Generating test split: 100%|██████████| 61998/61998 [00:01<00:00, 35428.79 examples/s]\n"
     ]
    }
   ],
   "source": [
    "trainData = load_dataset(\"carblacac/twitter-sentiment-analysis\", cache_dir=\"/mnt/d/huggingface_cache\", split=\"train\", trust_remote_code=True)"
   ]
  },
  {
   "cell_type": "code",
   "execution_count": 7,
   "metadata": {},
   "outputs": [],
   "source": [
    "from transformers import AutoTokenizer"
   ]
  },
  {
   "cell_type": "code",
   "execution_count": 5,
   "metadata": {},
   "outputs": [],
   "source": [
    "tokenizer = AutoTokenizer.from_pretrained(\"distilbert-base-uncased\", cache_dir=\"/mnt/d/huggingface_cache\")"
   ]
  },
  {
   "cell_type": "markdown",
   "metadata": {},
   "source": [
    "```python\n",
    "dataset[0]\n",
    "```\n",
    ">{'text': '@fa6ami86 so happy that salman won.  btw the 14sec clip is truely a teaser',\\\n",
    ">'feeling': 0}"
   ]
  },
  {
   "cell_type": "code",
   "execution_count": 6,
   "metadata": {},
   "outputs": [],
   "source": [
    "def tokenize_function(examples):\n",
    "    return tokenizer(examples[\"text\"], padding=\"max_length\", truncation=True, max_length=512)"
   ]
  },
  {
   "cell_type": "code",
   "execution_count": 8,
   "metadata": {},
   "outputs": [
    {
     "name": "stderr",
     "output_type": "stream",
     "text": [
      "Map: 100%|██████████| 119988/119988 [00:16<00:00, 7295.27 examples/s]\n"
     ]
    }
   ],
   "source": [
    "trainData = trainData.map(tokenize_function, batched=True)"
   ]
  },
  {
   "cell_type": "markdown",
   "metadata": {},
   "source": [
    "dataset[0]\n",
    "> {'text': '@fa6ami86 so happy that salman won.  btw the 14sec clip is truely a teaser',\\\n",
    "> 'feeling': 0,\\\n",
    "> 'input_ids': [...],\\\n",
    "> 'attention_mask': [...]}"
   ]
  },
  {
   "cell_type": "code",
   "execution_count": 9,
   "metadata": {},
   "outputs": [],
   "source": [
    "trainData.set_format(type=\"torch\", columns=[\"input_ids\", \"attention_mask\", \"feeling\"])"
   ]
  },
  {
   "cell_type": "markdown",
   "metadata": {},
   "source": [
    "dataset[0]\n",
    "> {'feeling': 0,\\\n",
    "> 'input_ids': [...],\\\n",
    "> 'attention_mask': [...]}"
   ]
  },
  {
   "cell_type": "code",
   "execution_count": 10,
   "metadata": {},
   "outputs": [],
   "source": [
    "from torch.utils.data import DataLoader"
   ]
  },
  {
   "cell_type": "code",
   "execution_count": 11,
   "metadata": {},
   "outputs": [],
   "source": [
    "dataloader = DataLoader(trainData, batch_size=16, shuffle=True)"
   ]
  },
  {
   "cell_type": "markdown",
   "metadata": {},
   "source": [
    "# Define Model"
   ]
  },
  {
   "cell_type": "code",
   "execution_count": 12,
   "metadata": {},
   "outputs": [],
   "source": [
    "import os"
   ]
  },
  {
   "cell_type": "code",
   "execution_count": 13,
   "metadata": {},
   "outputs": [],
   "source": [
    "from transformers import DistilBertModel, DistilBertConfig\n",
    "from model.model import SentiDistilBert"
   ]
  },
  {
   "cell_type": "code",
   "execution_count": 14,
   "metadata": {},
   "outputs": [
    {
     "name": "stdout",
     "output_type": "stream",
     "text": [
      "Loading model from model.pth\n"
     ]
    }
   ],
   "source": [
    "if os.path.exists('model.pth'):\n",
    "    myModel = SentiDistilBert(bert=DistilBertModel(DistilBertConfig()), devConf=devConf)\n",
    "    print('Loading model from model.pth')\n",
    "    myModel.load_state_dict(torch.load('model.pth'))\n",
    "else:\n",
    "    myModel = SentiDistilBert(DistilBertModel.from_pretrained(\"distilbert-base-uncased\"), devConf=devConf)"
   ]
  },
  {
   "cell_type": "markdown",
   "metadata": {},
   "source": [
    "## Test Forward"
   ]
  },
  {
   "cell_type": "code",
   "execution_count": 15,
   "metadata": {},
   "outputs": [],
   "source": [
    "from transformers import BatchEncoding"
   ]
  },
  {
   "cell_type": "code",
   "execution_count": 18,
   "metadata": {},
   "outputs": [],
   "source": [
    "inputs: BatchEncoding = tokenizer(\"Hello, my dog is cute\", return_tensors=\"pt\").to(devConf.device)"
   ]
  },
  {
   "cell_type": "code",
   "execution_count": 19,
   "metadata": {},
   "outputs": [],
   "source": [
    "output = myModel(**inputs)"
   ]
  },
  {
   "cell_type": "code",
   "execution_count": 20,
   "metadata": {},
   "outputs": [
    {
     "name": "stdout",
     "output_type": "stream",
     "text": [
      "torch.Size([1, 2])\n"
     ]
    }
   ],
   "source": [
    "print(output.shape)"
   ]
  },
  {
   "cell_type": "markdown",
   "metadata": {},
   "source": [
    "# Train"
   ]
  },
  {
   "cell_type": "code",
   "execution_count": 16,
   "metadata": {},
   "outputs": [],
   "source": [
    "import torch\n",
    "from torch import nn"
   ]
  },
  {
   "cell_type": "code",
   "execution_count": 17,
   "metadata": {},
   "outputs": [],
   "source": [
    "epochs = 1"
   ]
  },
  {
   "cell_type": "code",
   "execution_count": 18,
   "metadata": {},
   "outputs": [],
   "source": [
    "loss_fn = nn.CrossEntropyLoss()"
   ]
  },
  {
   "cell_type": "code",
   "execution_count": 19,
   "metadata": {},
   "outputs": [],
   "source": [
    "optimizer = torch.optim.AdamW(myModel.parameters(), lr=5e-5)"
   ]
  },
  {
   "cell_type": "code",
   "execution_count": 20,
   "metadata": {},
   "outputs": [],
   "source": [
    "def train(dataloader, model, loss_fn, optimizer, early_stopping_by_batch=None):\n",
    "    size = len(dataloader.dataset)\n",
    "    for batch, inputs in enumerate(dataloader):\n",
    "        if early_stopping_by_batch != None and batch >= early_stopping_by_batch:\n",
    "            break\n",
    "        inputs = {key: inputs[key].to(devConf.device) for key in inputs}\n",
    "        label = inputs.pop(\"feeling\")\n",
    "        outputs = model.forward(**inputs, bert_no_grad=False)\n",
    "        loss = loss_fn(outputs, label)\n",
    "\n",
    "        optimizer.zero_grad()\n",
    "        loss.backward()\n",
    "        optimizer.step()\n",
    "\n",
    "\n",
    "        if batch % 100 == 0:\n",
    "            acc = (outputs.argmax(1) == label).float().mean()\n",
    "            loss, current = loss.item(), batch * len(inputs[\"input_ids\"])\n",
    "            print(f\"loss: {loss:>7f} acc: {acc:>7f} [{current:>5d}/{size:>5d}]\")\n"
   ]
  },
  {
   "cell_type": "code",
   "execution_count": 21,
   "metadata": {},
   "outputs": [
    {
     "name": "stdout",
     "output_type": "stream",
     "text": [
      "Epoch 1\n",
      "-------------------------------\n",
      "loss: 0.505634 acc: 0.750000 [    0/119988]\n",
      "loss: 0.691833 acc: 0.562500 [ 1600/119988]\n",
      "loss: 0.687954 acc: 0.687500 [ 3200/119988]\n",
      "loss: 0.757911 acc: 0.375000 [ 4800/119988]\n",
      "loss: 0.693133 acc: 0.625000 [ 6400/119988]\n",
      "loss: 0.693078 acc: 0.562500 [ 8000/119988]\n",
      "loss: 0.693122 acc: 0.562500 [ 9600/119988]\n",
      "loss: 0.693147 acc: 0.437500 [11200/119988]\n",
      "loss: 0.693197 acc: 0.437500 [12800/119988]\n",
      "loss: 0.693290 acc: 0.312500 [14400/119988]\n",
      "loss: 0.693148 acc: 0.437500 [16000/119988]\n",
      "loss: 0.693145 acc: 0.500000 [17600/119988]\n",
      "loss: 0.693162 acc: 0.437500 [19200/119988]\n",
      "loss: 0.693098 acc: 0.687500 [20800/119988]\n",
      "loss: 0.692571 acc: 0.750000 [22400/119988]\n",
      "loss: 0.692929 acc: 0.625000 [24000/119988]\n",
      "loss: 0.693182 acc: 0.500000 [25600/119988]\n",
      "loss: 0.693060 acc: 0.500000 [27200/119988]\n",
      "loss: 0.693393 acc: 0.312500 [28800/119988]\n",
      "loss: 0.693220 acc: 0.437500 [30400/119988]\n",
      "loss: 0.693015 acc: 0.625000 [32000/119988]\n",
      "loss: 0.693083 acc: 0.562500 [33600/119988]\n",
      "loss: 0.693395 acc: 0.250000 [35200/119988]\n",
      "loss: 0.693178 acc: 0.437500 [36800/119988]\n",
      "loss: 0.692989 acc: 0.687500 [38400/119988]\n",
      "loss: 0.693105 acc: 0.562500 [40000/119988]\n",
      "loss: 0.693026 acc: 0.625000 [41600/119988]\n",
      "loss: 0.693103 acc: 0.500000 [43200/119988]\n",
      "loss: 0.693225 acc: 0.375000 [44800/119988]\n",
      "loss: 0.692958 acc: 0.687500 [46400/119988]\n",
      "loss: 0.693102 acc: 0.500000 [48000/119988]\n",
      "loss: 0.693132 acc: 0.562500 [49600/119988]\n",
      "loss: 0.693369 acc: 0.250000 [51200/119988]\n",
      "loss: 0.693252 acc: 0.312500 [52800/119988]\n",
      "loss: 0.693133 acc: 0.500000 [54400/119988]\n",
      "loss: 0.693165 acc: 0.437500 [56000/119988]\n",
      "loss: 0.693105 acc: 0.687500 [57600/119988]\n",
      "loss: 0.693069 acc: 0.750000 [59200/119988]\n",
      "loss: 0.693094 acc: 0.687500 [60800/119988]\n",
      "loss: 0.693160 acc: 0.437500 [62400/119988]\n",
      "loss: 0.693105 acc: 0.625000 [64000/119988]\n",
      "loss: 0.693132 acc: 0.625000 [65600/119988]\n",
      "loss: 0.693128 acc: 0.500000 [67200/119988]\n",
      "loss: 0.693214 acc: 0.312500 [68800/119988]\n",
      "loss: 0.693228 acc: 0.312500 [70400/119988]\n",
      "loss: 0.693204 acc: 0.312500 [72000/119988]\n",
      "loss: 0.693149 acc: 0.562500 [73600/119988]\n",
      "loss: 0.693155 acc: 0.500000 [75200/119988]\n",
      "loss: 0.693149 acc: 0.437500 [76800/119988]\n",
      "loss: 0.693166 acc: 0.437500 [78400/119988]\n",
      "loss: 0.693118 acc: 0.687500 [80000/119988]\n",
      "loss: 0.693167 acc: 0.437500 [81600/119988]\n",
      "loss: 0.693100 acc: 0.687500 [83200/119988]\n",
      "loss: 0.693148 acc: 0.437500 [84800/119988]\n",
      "loss: 0.693141 acc: 0.500000 [86400/119988]\n",
      "loss: 0.693153 acc: 0.437500 [88000/119988]\n",
      "loss: 0.693213 acc: 0.375000 [89600/119988]\n",
      "loss: 0.693122 acc: 0.625000 [91200/119988]\n",
      "loss: 0.693173 acc: 0.437500 [92800/119988]\n",
      "loss: 0.693091 acc: 0.937500 [94400/119988]\n",
      "loss: 0.693143 acc: 0.562500 [96000/119988]\n",
      "loss: 0.693160 acc: 0.500000 [97600/119988]\n",
      "loss: 0.693119 acc: 0.625000 [99200/119988]\n",
      "loss: 0.693143 acc: 0.625000 [100800/119988]\n",
      "loss: 0.693156 acc: 0.437500 [102400/119988]\n",
      "loss: 0.693167 acc: 0.375000 [104000/119988]\n",
      "loss: 0.693141 acc: 0.500000 [105600/119988]\n",
      "loss: 0.693105 acc: 0.812500 [107200/119988]\n",
      "loss: 0.693138 acc: 0.625000 [108800/119988]\n",
      "loss: 0.693097 acc: 0.687500 [110400/119988]\n",
      "loss: 0.693142 acc: 0.562500 [112000/119988]\n",
      "loss: 0.693137 acc: 0.562500 [113600/119988]\n",
      "loss: 0.693151 acc: 0.437500 [115200/119988]\n",
      "loss: 0.693137 acc: 0.687500 [116800/119988]\n",
      "loss: 0.693157 acc: 0.500000 [118400/119988]\n",
      "Done!\n"
     ]
    }
   ],
   "source": [
    "myModel.train()\n",
    "for i in range(epochs):\n",
    "    print(f\"Epoch {i + 1}\\n-------------------------------\")\n",
    "    train(dataloader, myModel, loss_fn, optimizer)\n",
    "print(\"Done!\")"
   ]
  },
  {
   "cell_type": "markdown",
   "metadata": {},
   "source": [
    "# Save Model"
   ]
  },
  {
   "cell_type": "code",
   "execution_count": 22,
   "metadata": {},
   "outputs": [],
   "source": [
    "from datetime import datetime"
   ]
  },
  {
   "cell_type": "code",
   "execution_count": 23,
   "metadata": {},
   "outputs": [],
   "source": [
    "now = datetime.now().strftime(\"%Y-%m-%d-%H:%M:%S\")\n",
    "torch.save(myModel.state_dict(), f\"model-{now}.pth\")"
   ]
  },
  {
   "cell_type": "markdown",
   "metadata": {},
   "source": [
    "# Load Model"
   ]
  },
  {
   "cell_type": "code",
   "execution_count": 1,
   "metadata": {},
   "outputs": [
    {
     "name": "stderr",
     "output_type": "stream",
     "text": [
      "/mnt/d/code/python/nlp-wsl/.venv/lib/python3.10/site-packages/tqdm/auto.py:21: TqdmWarning: IProgress not found. Please update jupyter and ipywidgets. See https://ipywidgets.readthedocs.io/en/stable/user_install.html\n",
      "  from .autonotebook import tqdm as notebook_tqdm\n"
     ]
    }
   ],
   "source": [
    "from transformers import DistilBertModel, DistilBertConfig\n",
    "from model.model import SentiDistilBert"
   ]
  },
  {
   "cell_type": "code",
   "execution_count": 3,
   "metadata": {},
   "outputs": [
    {
     "name": "stdout",
     "output_type": "stream",
     "text": [
      "DevConf(device='cuda', dtype=torch.float32)\n"
     ]
    }
   ],
   "source": [
    "import torch\n",
    "from utils.DevConf import DevConf\n",
    "devConf = DevConf('cuda' if torch.cuda.is_available() else 'cpu')\n",
    "print(devConf)"
   ]
  },
  {
   "cell_type": "code",
   "execution_count": 4,
   "metadata": {},
   "outputs": [],
   "source": [
    "myModel = SentiDistilBert(bert=DistilBertModel(DistilBertConfig()), devConf=devConf)"
   ]
  },
  {
   "cell_type": "code",
   "execution_count": 5,
   "metadata": {},
   "outputs": [
    {
     "data": {
      "text/plain": [
       "<All keys matched successfully>"
      ]
     },
     "execution_count": 5,
     "metadata": {},
     "output_type": "execute_result"
    }
   ],
   "source": [
    "myModel.load_state_dict(torch.load(\"model.pth\"))"
   ]
  },
  {
   "cell_type": "code",
   "execution_count": 24,
   "metadata": {},
   "outputs": [
    {
     "data": {
      "text/plain": [
       "SentiDistilBert(\n",
       "  (_bert): DistilBertModel(\n",
       "    (embeddings): Embeddings(\n",
       "      (word_embeddings): Embedding(30522, 768, padding_idx=0)\n",
       "      (position_embeddings): Embedding(512, 768)\n",
       "      (LayerNorm): LayerNorm((768,), eps=1e-12, elementwise_affine=True)\n",
       "      (dropout): Dropout(p=0.1, inplace=False)\n",
       "    )\n",
       "    (transformer): Transformer(\n",
       "      (layer): ModuleList(\n",
       "        (0-5): 6 x TransformerBlock(\n",
       "          (attention): MultiHeadSelfAttention(\n",
       "            (dropout): Dropout(p=0.1, inplace=False)\n",
       "            (q_lin): Linear(in_features=768, out_features=768, bias=True)\n",
       "            (k_lin): Linear(in_features=768, out_features=768, bias=True)\n",
       "            (v_lin): Linear(in_features=768, out_features=768, bias=True)\n",
       "            (out_lin): Linear(in_features=768, out_features=768, bias=True)\n",
       "          )\n",
       "          (sa_layer_norm): LayerNorm((768,), eps=1e-12, elementwise_affine=True)\n",
       "          (ffn): FFN(\n",
       "            (dropout): Dropout(p=0.1, inplace=False)\n",
       "            (lin1): Linear(in_features=768, out_features=3072, bias=True)\n",
       "            (lin2): Linear(in_features=3072, out_features=768, bias=True)\n",
       "            (activation): GELUActivation()\n",
       "          )\n",
       "          (output_layer_norm): LayerNorm((768,), eps=1e-12, elementwise_affine=True)\n",
       "        )\n",
       "      )\n",
       "    )\n",
       "  )\n",
       "  (decoder): MHABlock(\n",
       "    (qProj): Linear(in_features=768, out_features=768, bias=True)\n",
       "    (kProj): Linear(in_features=768, out_features=768, bias=True)\n",
       "    (vProj): Linear(in_features=768, out_features=768, bias=True)\n",
       "    (_mha): MultiheadAttention(\n",
       "      (out_proj): NonDynamicallyQuantizableLinear(in_features=768, out_features=768, bias=True)\n",
       "    )\n",
       "    (norm): LayerNorm((768,), eps=1e-05, elementwise_affine=True)\n",
       "    (ffn): Sequential(\n",
       "      (0): Linear(in_features=768, out_features=3072, bias=True)\n",
       "      (1): GELU(approximate='none')\n",
       "      (2): Linear(in_features=3072, out_features=768, bias=True)\n",
       "      (3): Dropout(p=0.1, inplace=False)\n",
       "    )\n",
       "    (outNorm): LayerNorm((768,), eps=1e-05, elementwise_affine=True)\n",
       "  )\n",
       "  (dropout): Dropout(p=0.1, inplace=False)\n",
       "  (linear): Linear(in_features=768, out_features=2, bias=True)\n",
       "  (sigmoid): Sigmoid()\n",
       "  (softmax): Softmax(dim=1)\n",
       ")"
      ]
     },
     "execution_count": 24,
     "metadata": {},
     "output_type": "execute_result"
    }
   ],
   "source": [
    "myModel.eval()"
   ]
  },
  {
   "cell_type": "markdown",
   "metadata": {},
   "source": [
    "# Test Model"
   ]
  },
  {
   "cell_type": "code",
   "execution_count": 10,
   "metadata": {},
   "outputs": [],
   "source": [
    "from datasets import load_dataset\n",
    "from transformers import AutoTokenizer"
   ]
  },
  {
   "cell_type": "code",
   "execution_count": 11,
   "metadata": {},
   "outputs": [],
   "source": [
    "tokenizer = AutoTokenizer.from_pretrained(\"distilbert-base-uncased\")\n",
    "def tokenize_function(examples):\n",
    "    return tokenizer(examples[\"text\"], padding=\"max_length\", truncation=True, max_length=512)"
   ]
  },
  {
   "cell_type": "code",
   "execution_count": 25,
   "metadata": {},
   "outputs": [],
   "source": [
    "testData = load_dataset(\"carblacac/twitter-sentiment-analysis\", split=\"test\", trust_remote_code=True)\n",
    "testData = testData.map(tokenize_function, batched=True)\n",
    "testData.set_format(type=\"torch\", columns=[\"input_ids\", \"attention_mask\", \"feeling\"])"
   ]
  },
  {
   "cell_type": "code",
   "execution_count": 26,
   "metadata": {},
   "outputs": [],
   "source": [
    "from tqdm import tqdm"
   ]
  },
  {
   "cell_type": "code",
   "execution_count": 27,
   "metadata": {},
   "outputs": [],
   "source": [
    "ans = [[0, 0],[0, 0]]"
   ]
  },
  {
   "cell_type": "code",
   "execution_count": 28,
   "metadata": {},
   "outputs": [
    {
     "name": "stderr",
     "output_type": "stream",
     "text": [
      "100%|██████████| 61998/61998 [14:42<00:00, 70.24it/s]\n"
     ]
    }
   ],
   "source": [
    "myModel.eval()\n",
    "for i in tqdm(testData):\n",
    "    i = {key: i[key].to(devConf.device) for key in i}\n",
    "    label = i.pop(\"feeling\")\n",
    "    output = myModel(**i)\n",
    "    # print(f\"Predicted: {myModel(**i).argmax(1)} Actual: {label}\")\n",
    "    ans[label][output.argmax(1)] += 1"
   ]
  },
  {
   "cell_type": "code",
   "execution_count": 30,
   "metadata": {},
   "outputs": [
    {
     "name": "stdout",
     "output_type": "stream",
     "text": [
      "[[0, 30969], [0, 31029]]\n"
     ]
    }
   ],
   "source": [
    "print(ans)"
   ]
  },
  {
   "cell_type": "markdown",
   "metadata": {},
   "source": [
    "[[24873, 6096], [6934, 24095]]"
   ]
  },
  {
   "cell_type": "markdown",
   "metadata": {},
   "source": [
    "## Compute Standard"
   ]
  },
  {
   "cell_type": "code",
   "execution_count": 17,
   "metadata": {},
   "outputs": [
    {
     "name": "stdout",
     "output_type": "stream",
     "text": [
      "Precision: 0.7980855221754828\n"
     ]
    }
   ],
   "source": [
    "precision = ans[1][1] / (ans[1][1] + ans[0][1])\n",
    "print(f\"Precision: {precision}\")"
   ]
  },
  {
   "cell_type": "code",
   "execution_count": 18,
   "metadata": {},
   "outputs": [
    {
     "name": "stdout",
     "output_type": "stream",
     "text": [
      "Recall: 0.776531631699378\n"
     ]
    }
   ],
   "source": [
    "recall = ans[1][1] / (ans[1][1] + ans[1][0])\n",
    "print(f\"Recall: {recall}\")"
   ]
  },
  {
   "cell_type": "code",
   "execution_count": 19,
   "metadata": {},
   "outputs": [
    {
     "name": "stdout",
     "output_type": "stream",
     "text": [
      "F Measure: 0.7871610584776217\n"
     ]
    }
   ],
   "source": [
    "fMeasure = 2 * (precision * recall) / (precision + recall)\n",
    "print(f\"F Measure: {fMeasure}\")"
   ]
  },
  {
   "cell_type": "code",
   "execution_count": 31,
   "metadata": {},
   "outputs": [
    {
     "name": "stdout",
     "output_type": "stream",
     "text": [
      "Accuracy: 0.5004838865769864\n"
     ]
    }
   ],
   "source": [
    "accuracy = (ans[0][0] + ans[1][1]) / (ans[0][0] + ans[0][1] + ans[1][0] + ans[1][1])\n",
    "print(f\"Accuracy: {accuracy}\")"
   ]
  },
  {
   "cell_type": "markdown",
   "metadata": {},
   "source": [
    "Accuracy: 0.78983193006226"
   ]
  },
  {
   "cell_type": "code",
   "execution_count": null,
   "metadata": {},
   "outputs": [],
   "source": []
  }
 ],
 "metadata": {
  "kernelspec": {
   "display_name": ".venv",
   "language": "python",
   "name": "python3"
  },
  "language_info": {
   "codemirror_mode": {
    "name": "ipython",
    "version": 3
   },
   "file_extension": ".py",
   "mimetype": "text/x-python",
   "name": "python",
   "nbconvert_exporter": "python",
   "pygments_lexer": "ipython3",
   "version": "3.10.12"
  }
 },
 "nbformat": 4,
 "nbformat_minor": 2
}
